{
 "cells": [
  {
   "cell_type": "code",
   "execution_count": 71,
   "metadata": {},
   "outputs": [
    {
     "name": "stderr",
     "output_type": "stream",
     "text": [
      "[nltk_data] Downloading package punkt to\n",
      "[nltk_data]     C:\\Users\\roshan\\AppData\\Roaming\\nltk_data...\n",
      "[nltk_data]   Package punkt is already up-to-date!\n",
      "[nltk_data] Downloading package stopwords to\n",
      "[nltk_data]     C:\\Users\\roshan\\AppData\\Roaming\\nltk_data...\n",
      "[nltk_data]   Package stopwords is already up-to-date!\n",
      "[nltk_data] Downloading package wordnet to\n",
      "[nltk_data]     C:\\Users\\roshan\\AppData\\Roaming\\nltk_data...\n",
      "[nltk_data]   Package wordnet is already up-to-date!\n",
      "[nltk_data] Downloading package omw-1.4 to\n",
      "[nltk_data]     C:\\Users\\roshan\\AppData\\Roaming\\nltk_data...\n",
      "[nltk_data]   Package omw-1.4 is already up-to-date!\n"
     ]
    },
    {
     "data": {
      "text/plain": [
       "True"
      ]
     },
     "execution_count": 71,
     "metadata": {},
     "output_type": "execute_result"
    }
   ],
   "source": [
    "import nltk\n",
    "from voice_engine import speak\n",
    "# 🛠️ Download required data\n",
    "nltk.download('punkt')\n",
    "nltk.download('stopwords')\n",
    "nltk.download('wordnet')\n",
    "nltk.download('omw-1.4')\n"
   ]
  },
  {
   "cell_type": "code",
   "execution_count": 72,
   "metadata": {},
   "outputs": [
    {
     "name": "stdout",
     "output_type": "stream",
     "text": [
      "✨ Cleaned Words: ['hey', 'roshan', 'building', 'llm', 'scratch', 'fire']\n"
     ]
    }
   ],
   "source": [
    "# testing word token extraction\n",
    "from nltk.tokenize import word_tokenize\n",
    "from nltk.corpus import stopwords\n",
    "from nltk.stem import WordNetLemmatizer\n",
    "\n",
    "text = \"Hey Roshan! You're building your own LLM from scratch. That's fire! 🔥\"\n",
    "\n",
    "# Tokenize\n",
    "tokens = word_tokenize(text.lower())\n",
    "\n",
    "# Remove stopwords\n",
    "stop_words = set(stopwords.words('english'))\n",
    "filtered = [word for word in tokens if word.isalnum() and word not in stop_words]\n",
    "\n",
    "# Lemmatize\n",
    "lemmatizer = WordNetLemmatizer()\n",
    "lemmas = [lemmatizer.lemmatize(w) for w in filtered]\n",
    "\n",
    "print(\"✨ Cleaned Words:\", lemmas)\n"
   ]
  },
  {
   "cell_type": "code",
   "execution_count": 88,
   "metadata": {},
   "outputs": [
    {
     "name": "stdout",
     "output_type": "stream",
     "text": [
      "🧠 Detected intent: farewell\n",
      "🧹 Clean tokens detected: ['ok', 'bye']\n"
     ]
    }
   ],
   "source": [
    "from nltk.tokenize import word_tokenize\n",
    "from nltk import NaiveBayesClassifier\n",
    "from scrapper import scrape_wikipedia\n",
    "from voice_engine import speak\n",
    "\n",
    "# Training data\n",
    "training_data = [\n",
    "    (\"hello there\", \"greeting\"),\n",
    "    (\"hi bro\", \"greeting\"),\n",
    "    (\"how are you?\", \"greeting\"),\n",
    "    (\"what is NLP?\", \"question\"),\n",
    "    (\"tell me about GPT\", \"question\"),\n",
    "    (\"bye for now\", \"farewell\"),\n",
    "    (\"see you\", \"farewell\"),\n",
    "    (\"yourself\",\"askingme\"),\n",
    "    (\"you\",\"askingme\"),\n",
    "    (\"your\",\"askingme\"),\n",
    "    (\"who are you\",\"askingme\")\n",
    "]\n",
    "\n",
    "# Preprocessing\n",
    "def preprocess_with_tokens(sentence):\n",
    "    tokens = word_tokenize(sentence.lower())\n",
    "    clean_tokens = [word for word in tokens if word.isalnum()]\n",
    "    features = {word: True for word in clean_tokens}\n",
    "    return features, clean_tokens\n",
    "\n",
    "# Train classifier\n",
    "train_set = [(preprocess_with_tokens(text)[0], label) for text, label in training_data]\n",
    "classifier = NaiveBayesClassifier.train(train_set)\n",
    "\n",
    "# 🌟 Get user input\n",
    "user_input = input(\"👤 You: \")\n",
    "\n",
    "# Classify\n",
    "features, clean_tokens = preprocess_with_tokens(user_input)\n",
    "label = classifier.classify(features)\n",
    "\n",
    "print(\"🧠 Detected intent:\", label)\n",
    "print(\"🧹 Clean tokens detected:\", clean_tokens)\n",
    "\n",
    "\n"
   ]
  },
  {
   "cell_type": "code",
   "execution_count": 90,
   "metadata": {},
   "outputs": [
    {
     "name": "stdout",
     "output_type": "stream",
     "text": [
      "🤖 Bot: Catch you later!\n",
      "🎤 Speaking: Catch you later!\n",
      " > Text splitted to sentences.\n",
      "['Catch you later!']\n",
      " > Processing time: 0.21177148818969727\n",
      " > Real-time factor: 0.12155251235378033\n"
     ]
    }
   ],
   "source": [
    "# 🔎 If question-like command, run scraper\n",
    "if any(w in clean_tokens for w in [\"who\", \"what\", \"where\", \"which\"]):\n",
    "    title, content = scrape_wikipedia(user_input)\n",
    "    print(\"📌\", title)\n",
    "    print(\"📖\", content)\n",
    "    speak(title)\n",
    "    speak(content)\n",
    "else:\n",
    "    # Smart reply system\n",
    "    from random import choice\n",
    "    responses = {\n",
    "        \"greeting\": [\"Heyy!\", \"What's up bhai!\", \"Hello legend! 😎\"],\n",
    "        \"question\": [\"Let's learn together!\", \"That's a deep one... 🤔\", \"Here’s what I know...\"],\n",
    "        \"farewell\": [\"Bye bro!\", \"Catch you later!\", \"Peace out! ✌️\"],\n",
    "        \"askingme\": [\"I'm an LLM!\", \"Just an AI vibin’ 🤖\", \"Call me RoshanGPT 😎\"]\n",
    "    }\n",
    "    reply = choice(responses.get(label, [\"Umm... I don't know that yet. 😅\"]))\n",
    "    print(\"🤖 Bot:\", reply)\n",
    "    speak(reply)"
   ]
  }
 ],
 "metadata": {
  "kernelspec": {
   "display_name": "Python 3",
   "language": "python",
   "name": "python3"
  },
  "language_info": {
   "codemirror_mode": {
    "name": "ipython",
    "version": 3
   },
   "file_extension": ".py",
   "mimetype": "text/x-python",
   "name": "python",
   "nbconvert_exporter": "python",
   "pygments_lexer": "ipython3",
   "version": "3.10.11"
  }
 },
 "nbformat": 4,
 "nbformat_minor": 2
}
